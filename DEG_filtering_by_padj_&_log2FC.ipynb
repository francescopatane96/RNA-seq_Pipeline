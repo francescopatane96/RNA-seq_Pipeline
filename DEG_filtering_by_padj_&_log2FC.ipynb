{
  "nbformat": 4,
  "nbformat_minor": 0,
  "metadata": {
    "colab": {
      "provenance": [],
      "authorship_tag": "ABX9TyMYyc+p/trM/uDYj8v8ysoe",
      "include_colab_link": true
    },
    "kernelspec": {
      "name": "ir",
      "display_name": "R"
    },
    "language_info": {
      "name": "R"
    }
  },
  "cells": [
    {
      "cell_type": "markdown",
      "metadata": {
        "id": "view-in-github",
        "colab_type": "text"
      },
      "source": [
        "<a href=\"https://colab.research.google.com/github/francescopatane96/RNA-seq_Pipeline/blob/main/DEG_filtering_by_padj_%26_log2FC.ipynb\" target=\"_parent\"><img src=\"https://colab.research.google.com/assets/colab-badge.svg\" alt=\"Open In Colab\"/></a>"
      ]
    },
    {
      "cell_type": "code",
      "execution_count": null,
      "metadata": {
        "id": "ZwLEHNoDuikI"
      },
      "outputs": [],
      "source": [
        "res <- read.csv('C:/Users/Desiree/Desktop/611911_fin/counts/DEG_611911.csv', header=T, sep='/t') #or ','"
      ]
    },
    {
      "cell_type": "code",
      "source": [
        "#order by log2FoldChange\n",
        "resOrdered <- res[order(res$log2FoldChange),]"
      ],
      "metadata": {
        "id": "Qhc08W7muuKu"
      },
      "execution_count": null,
      "outputs": []
    },
    {
      "cell_type": "code",
      "source": [
        "#remove DEG with padj<=0.1\n",
        "resSig <- subset(resOrdered, padj <= 0.1)"
      ],
      "metadata": {
        "id": "H1d3jFSdvGN2"
      },
      "execution_count": null,
      "outputs": []
    },
    {
      "cell_type": "code",
      "source": [
        "write.csv(resSig, 'DEG_padj_min01_611911.csv')\n"
      ],
      "metadata": {
        "id": "UumYSGYjvOFe"
      },
      "execution_count": null,
      "outputs": []
    },
    {
      "cell_type": "code",
      "source": [
        "UP_list = subset(resSig, log2FoldChange>=1.5)"
      ],
      "metadata": {
        "id": "8U213syqvU1v"
      },
      "execution_count": null,
      "outputs": []
    },
    {
      "cell_type": "code",
      "source": [
        "write.csv(UP_list, 'DEG_UP_padj_min01.csv')"
      ],
      "metadata": {
        "id": "e4dlQ7NWvYCG"
      },
      "execution_count": null,
      "outputs": []
    },
    {
      "cell_type": "code",
      "source": [
        "DOWN_list = subset(resSig, log2FoldChange<=-1.5)"
      ],
      "metadata": {
        "id": "zuqMqnn2vevX"
      },
      "execution_count": null,
      "outputs": []
    },
    {
      "cell_type": "code",
      "source": [
        "write.csv(DOWN_list, 'DEG_DOWN_padj_min01.csv')"
      ],
      "metadata": {
        "id": "FV6UlgA8vgcv"
      },
      "execution_count": null,
      "outputs": []
    }
  ]
}